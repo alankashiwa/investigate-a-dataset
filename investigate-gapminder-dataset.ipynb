{
 "cells": [
  {
   "cell_type": "markdown",
   "metadata": {},
   "source": [
    "# Project: Investigate Gapminder Dataset\n",
    "\n",
    "## Table of Contents\n",
    "<ul>\n",
    "<li><a href=\"#intro\">Introduction</a></li>\n",
    "<li><a href=\"#wrangling\">Data Wrangling</a></li>\n",
    "<li><a href=\"#eda\">Exploratory Data Analysis</a></li>\n",
    "<li><a href=\"#conclusions\">Conclusions</a></li>\n",
    "</ul>"
   ]
  },
  {
   "cell_type": "markdown",
   "metadata": {},
   "source": [
    "<a id='intro'></a>\n",
    "## Introduction\n",
    "\n",
    "> This project explores gapminder dataset to find what parameters affect a country's public peace/security.  \n",
    "Below are the questions aimed to be answered based on the analysis.\n",
    ">\n",
    ">* Q1: What is the relationship between a country's wealth inequality and its murder rate?\n",
    "* Q2: What about suicide rate?\n",
    "* Q3: Any other parameters linked to murder/suicide rate?\n"
   ]
  },
  {
   "cell_type": "code",
   "execution_count": 1,
   "metadata": {
    "collapsed": true
   },
   "outputs": [],
   "source": [
    "# Import libraries\n",
    "import numpy as np\n",
    "import pandas as pd\n",
    "import matplotlib.pyplot as plt\n",
    "import seaborn as sns\n",
    "%matplotlib inline"
   ]
  },
  {
   "cell_type": "markdown",
   "metadata": {},
   "source": [
    "<a id='wrangling'></a>\n",
    "## Data Wrangling\n",
    "\n",
    "> * Loading and taking a look on the data.\n",
    "* Combining data if necessary\n",
    "* Making sure each dataframe have similar foramt and are easy to joint together\n",
    "\n",
    "The following dataset are used:\n",
    "* Murder rate (male/female)\n",
    "* Suicide rate (male/female)\n",
    "* Gini index\n",
    "* Unemployment rate\n",
    "* GDP per capita"
   ]
  },
  {
   "cell_type": "markdown",
   "metadata": {},
   "source": [
    "### 1. Help functions\n",
    "\n",
    "There seem to be many simular operations on different dataset.  \n",
    "Define functions here that would later help reduce duplicate code.\n"
   ]
  },
  {
   "cell_type": "code",
   "execution_count": 2,
   "metadata": {
    "collapsed": true
   },
   "outputs": [],
   "source": [
    "def data_for_certain_year(dataframe, year, isDrop=True):\n",
    "    \"\"\"\n",
    "    Extract data of the specified year.\n",
    "    \n",
    "    [Args]\n",
    "      dataframe: target dataframe\n",
    "      year: the year of the data\n",
    "      isDrop: whether to drop NaN\n",
    "      \n",
    "    [Return]\n",
    "      A pandas series for the year's data\n",
    "    \"\"\"\n",
    "\n",
    "    # Extract the data\n",
    "    s_result = dataframe[year]\n",
    "    # Drop NaN\n",
    "    s_result.dropna(inplace=isDrop)\n",
    "    \n",
    "    # Rename the series name\n",
    "    s_result.name = dataframe.index.name\n",
    "    s_result.index.name = ''\n",
    "    \n",
    "    return s_result"
   ]
  },
  {
   "cell_type": "markdown",
   "metadata": {},
   "source": [
    "### 2. Data for murder and suicide\n",
    "Load the murder and suicide data.  \n",
    "Check data integrity and decide how to process the data for later exploration."
   ]
  },
  {
   "cell_type": "code",
   "execution_count": 3,
   "metadata": {
    "collapsed": true
   },
   "outputs": [],
   "source": [
    "# Load data about suicide and murder rate\n",
    "df_suicide_f = pd.read_excel('data/Suicide female indicator file UL 20100916.xlsx', sheetname='Data', index_col=0)\n",
    "df_suicide_m = pd.read_excel('data/Suicide male indicator file UL 20100916.xlsx', sheetname='Data', index_col=0)\n",
    "df_murder_f = pd.read_excel('data/murdered female indicator file UL 20100916.xlsx', sheetname='Data', index_col=0)\n",
    "df_murder_m = pd.read_excel('data/murdered male indicator file UL 20100916.xlsx', sheetname='Data', index_col=0)"
   ]
  },
  {
   "cell_type": "code",
   "execution_count": 4,
   "metadata": {},
   "outputs": [
    {
     "data": {
      "text/html": [
       "<div>\n",
       "<style>\n",
       "    .dataframe thead tr:only-child th {\n",
       "        text-align: right;\n",
       "    }\n",
       "\n",
       "    .dataframe thead th {\n",
       "        text-align: left;\n",
       "    }\n",
       "\n",
       "    .dataframe tbody tr th {\n",
       "        vertical-align: top;\n",
       "    }\n",
       "</style>\n",
       "<table border=\"1\" class=\"dataframe\">\n",
       "  <thead>\n",
       "    <tr style=\"text-align: right;\">\n",
       "      <th></th>\n",
       "      <th>1950</th>\n",
       "      <th>1951</th>\n",
       "      <th>1952</th>\n",
       "      <th>1953</th>\n",
       "      <th>1954</th>\n",
       "      <th>1955</th>\n",
       "      <th>1956</th>\n",
       "      <th>1957</th>\n",
       "      <th>1958</th>\n",
       "      <th>1959</th>\n",
       "      <th>...</th>\n",
       "      <th>1995</th>\n",
       "      <th>1996</th>\n",
       "      <th>1997</th>\n",
       "      <th>1998</th>\n",
       "      <th>1999</th>\n",
       "      <th>2000</th>\n",
       "      <th>2001</th>\n",
       "      <th>2002</th>\n",
       "      <th>2003</th>\n",
       "      <th>2004</th>\n",
       "    </tr>\n",
       "    <tr>\n",
       "      <th>Suicide among men, per 100 000, age adjusted</th>\n",
       "      <th></th>\n",
       "      <th></th>\n",
       "      <th></th>\n",
       "      <th></th>\n",
       "      <th></th>\n",
       "      <th></th>\n",
       "      <th></th>\n",
       "      <th></th>\n",
       "      <th></th>\n",
       "      <th></th>\n",
       "      <th></th>\n",
       "      <th></th>\n",
       "      <th></th>\n",
       "      <th></th>\n",
       "      <th></th>\n",
       "      <th></th>\n",
       "      <th></th>\n",
       "      <th></th>\n",
       "      <th></th>\n",
       "      <th></th>\n",
       "      <th></th>\n",
       "    </tr>\n",
       "  </thead>\n",
       "  <tbody>\n",
       "    <tr>\n",
       "      <th>Afghanistan</th>\n",
       "      <td>NaN</td>\n",
       "      <td>NaN</td>\n",
       "      <td>NaN</td>\n",
       "      <td>NaN</td>\n",
       "      <td>NaN</td>\n",
       "      <td>NaN</td>\n",
       "      <td>NaN</td>\n",
       "      <td>NaN</td>\n",
       "      <td>NaN</td>\n",
       "      <td>NaN</td>\n",
       "      <td>...</td>\n",
       "      <td>NaN</td>\n",
       "      <td>NaN</td>\n",
       "      <td>NaN</td>\n",
       "      <td>NaN</td>\n",
       "      <td>NaN</td>\n",
       "      <td>NaN</td>\n",
       "      <td>NaN</td>\n",
       "      <td>NaN</td>\n",
       "      <td>NaN</td>\n",
       "      <td>4.884804</td>\n",
       "    </tr>\n",
       "    <tr>\n",
       "      <th>Albania</th>\n",
       "      <td>NaN</td>\n",
       "      <td>NaN</td>\n",
       "      <td>NaN</td>\n",
       "      <td>NaN</td>\n",
       "      <td>NaN</td>\n",
       "      <td>NaN</td>\n",
       "      <td>NaN</td>\n",
       "      <td>NaN</td>\n",
       "      <td>NaN</td>\n",
       "      <td>NaN</td>\n",
       "      <td>...</td>\n",
       "      <td>NaN</td>\n",
       "      <td>NaN</td>\n",
       "      <td>NaN</td>\n",
       "      <td>NaN</td>\n",
       "      <td>NaN</td>\n",
       "      <td>NaN</td>\n",
       "      <td>NaN</td>\n",
       "      <td>NaN</td>\n",
       "      <td>NaN</td>\n",
       "      <td>9.330574</td>\n",
       "    </tr>\n",
       "    <tr>\n",
       "      <th>Algeria</th>\n",
       "      <td>NaN</td>\n",
       "      <td>NaN</td>\n",
       "      <td>NaN</td>\n",
       "      <td>NaN</td>\n",
       "      <td>NaN</td>\n",
       "      <td>NaN</td>\n",
       "      <td>NaN</td>\n",
       "      <td>NaN</td>\n",
       "      <td>NaN</td>\n",
       "      <td>NaN</td>\n",
       "      <td>...</td>\n",
       "      <td>NaN</td>\n",
       "      <td>NaN</td>\n",
       "      <td>NaN</td>\n",
       "      <td>NaN</td>\n",
       "      <td>NaN</td>\n",
       "      <td>NaN</td>\n",
       "      <td>NaN</td>\n",
       "      <td>NaN</td>\n",
       "      <td>NaN</td>\n",
       "      <td>5.145025</td>\n",
       "    </tr>\n",
       "    <tr>\n",
       "      <th>Andorra</th>\n",
       "      <td>NaN</td>\n",
       "      <td>NaN</td>\n",
       "      <td>NaN</td>\n",
       "      <td>NaN</td>\n",
       "      <td>NaN</td>\n",
       "      <td>NaN</td>\n",
       "      <td>NaN</td>\n",
       "      <td>NaN</td>\n",
       "      <td>NaN</td>\n",
       "      <td>NaN</td>\n",
       "      <td>...</td>\n",
       "      <td>NaN</td>\n",
       "      <td>NaN</td>\n",
       "      <td>NaN</td>\n",
       "      <td>NaN</td>\n",
       "      <td>NaN</td>\n",
       "      <td>NaN</td>\n",
       "      <td>NaN</td>\n",
       "      <td>NaN</td>\n",
       "      <td>NaN</td>\n",
       "      <td>8.048293</td>\n",
       "    </tr>\n",
       "    <tr>\n",
       "      <th>Angola</th>\n",
       "      <td>NaN</td>\n",
       "      <td>NaN</td>\n",
       "      <td>NaN</td>\n",
       "      <td>NaN</td>\n",
       "      <td>NaN</td>\n",
       "      <td>NaN</td>\n",
       "      <td>NaN</td>\n",
       "      <td>NaN</td>\n",
       "      <td>NaN</td>\n",
       "      <td>NaN</td>\n",
       "      <td>...</td>\n",
       "      <td>NaN</td>\n",
       "      <td>NaN</td>\n",
       "      <td>NaN</td>\n",
       "      <td>NaN</td>\n",
       "      <td>NaN</td>\n",
       "      <td>NaN</td>\n",
       "      <td>NaN</td>\n",
       "      <td>NaN</td>\n",
       "      <td>NaN</td>\n",
       "      <td>21.472977</td>\n",
       "    </tr>\n",
       "  </tbody>\n",
       "</table>\n",
       "<p>5 rows × 55 columns</p>\n",
       "</div>"
      ],
      "text/plain": [
       "                                              1950  1951  1952  1953  1954  \\\n",
       "Suicide among men, per 100 000, age adjusted                                 \n",
       "Afghanistan                                    NaN   NaN   NaN   NaN   NaN   \n",
       "Albania                                        NaN   NaN   NaN   NaN   NaN   \n",
       "Algeria                                        NaN   NaN   NaN   NaN   NaN   \n",
       "Andorra                                        NaN   NaN   NaN   NaN   NaN   \n",
       "Angola                                         NaN   NaN   NaN   NaN   NaN   \n",
       "\n",
       "                                              1955  1956  1957  1958  1959  \\\n",
       "Suicide among men, per 100 000, age adjusted                                 \n",
       "Afghanistan                                    NaN   NaN   NaN   NaN   NaN   \n",
       "Albania                                        NaN   NaN   NaN   NaN   NaN   \n",
       "Algeria                                        NaN   NaN   NaN   NaN   NaN   \n",
       "Andorra                                        NaN   NaN   NaN   NaN   NaN   \n",
       "Angola                                         NaN   NaN   NaN   NaN   NaN   \n",
       "\n",
       "                                                ...      1995  1996  1997  \\\n",
       "Suicide among men, per 100 000, age adjusted    ...                         \n",
       "Afghanistan                                     ...       NaN   NaN   NaN   \n",
       "Albania                                         ...       NaN   NaN   NaN   \n",
       "Algeria                                         ...       NaN   NaN   NaN   \n",
       "Andorra                                         ...       NaN   NaN   NaN   \n",
       "Angola                                          ...       NaN   NaN   NaN   \n",
       "\n",
       "                                              1998  1999  2000  2001  2002  \\\n",
       "Suicide among men, per 100 000, age adjusted                                 \n",
       "Afghanistan                                    NaN   NaN   NaN   NaN   NaN   \n",
       "Albania                                        NaN   NaN   NaN   NaN   NaN   \n",
       "Algeria                                        NaN   NaN   NaN   NaN   NaN   \n",
       "Andorra                                        NaN   NaN   NaN   NaN   NaN   \n",
       "Angola                                         NaN   NaN   NaN   NaN   NaN   \n",
       "\n",
       "                                              2003       2004  \n",
       "Suicide among men, per 100 000, age adjusted                   \n",
       "Afghanistan                                    NaN   4.884804  \n",
       "Albania                                        NaN   9.330574  \n",
       "Algeria                                        NaN   5.145025  \n",
       "Andorra                                        NaN   8.048293  \n",
       "Angola                                         NaN  21.472977  \n",
       "\n",
       "[5 rows x 55 columns]"
      ]
     },
     "execution_count": 4,
     "metadata": {},
     "output_type": "execute_result"
    }
   ],
   "source": [
    "# These are similar data, check how they look like\n",
    "df_suicide_m.head()"
   ]
  },
  {
   "cell_type": "code",
   "execution_count": 5,
   "metadata": {},
   "outputs": [
    {
     "data": {
      "text/html": [
       "<div>\n",
       "<style>\n",
       "    .dataframe thead tr:only-child th {\n",
       "        text-align: right;\n",
       "    }\n",
       "\n",
       "    .dataframe thead th {\n",
       "        text-align: left;\n",
       "    }\n",
       "\n",
       "    .dataframe tbody tr th {\n",
       "        vertical-align: top;\n",
       "    }\n",
       "</style>\n",
       "<table border=\"1\" class=\"dataframe\">\n",
       "  <thead>\n",
       "    <tr style=\"text-align: right;\">\n",
       "      <th></th>\n",
       "      <th>1950</th>\n",
       "      <th>1951</th>\n",
       "      <th>1952</th>\n",
       "      <th>1953</th>\n",
       "      <th>1954</th>\n",
       "      <th>1955</th>\n",
       "      <th>1956</th>\n",
       "      <th>1957</th>\n",
       "      <th>1958</th>\n",
       "      <th>1959</th>\n",
       "      <th>...</th>\n",
       "      <th>1995</th>\n",
       "      <th>1996</th>\n",
       "      <th>1997</th>\n",
       "      <th>1998</th>\n",
       "      <th>1999</th>\n",
       "      <th>2000</th>\n",
       "      <th>2001</th>\n",
       "      <th>2002</th>\n",
       "      <th>2003</th>\n",
       "      <th>2004</th>\n",
       "    </tr>\n",
       "    <tr>\n",
       "      <th>Suicide among men, per 100 000, age adjusted</th>\n",
       "      <th></th>\n",
       "      <th></th>\n",
       "      <th></th>\n",
       "      <th></th>\n",
       "      <th></th>\n",
       "      <th></th>\n",
       "      <th></th>\n",
       "      <th></th>\n",
       "      <th></th>\n",
       "      <th></th>\n",
       "      <th></th>\n",
       "      <th></th>\n",
       "      <th></th>\n",
       "      <th></th>\n",
       "      <th></th>\n",
       "      <th></th>\n",
       "      <th></th>\n",
       "      <th></th>\n",
       "      <th></th>\n",
       "      <th></th>\n",
       "      <th></th>\n",
       "    </tr>\n",
       "  </thead>\n",
       "  <tbody>\n",
       "    <tr>\n",
       "      <th>Afghanistan</th>\n",
       "      <td>NaN</td>\n",
       "      <td>NaN</td>\n",
       "      <td>NaN</td>\n",
       "      <td>NaN</td>\n",
       "      <td>NaN</td>\n",
       "      <td>NaN</td>\n",
       "      <td>NaN</td>\n",
       "      <td>NaN</td>\n",
       "      <td>NaN</td>\n",
       "      <td>NaN</td>\n",
       "      <td>...</td>\n",
       "      <td>NaN</td>\n",
       "      <td>NaN</td>\n",
       "      <td>NaN</td>\n",
       "      <td>NaN</td>\n",
       "      <td>NaN</td>\n",
       "      <td>NaN</td>\n",
       "      <td>NaN</td>\n",
       "      <td>NaN</td>\n",
       "      <td>NaN</td>\n",
       "      <td>4.884804</td>\n",
       "    </tr>\n",
       "    <tr>\n",
       "      <th>Albania</th>\n",
       "      <td>NaN</td>\n",
       "      <td>NaN</td>\n",
       "      <td>NaN</td>\n",
       "      <td>NaN</td>\n",
       "      <td>NaN</td>\n",
       "      <td>NaN</td>\n",
       "      <td>NaN</td>\n",
       "      <td>NaN</td>\n",
       "      <td>NaN</td>\n",
       "      <td>NaN</td>\n",
       "      <td>...</td>\n",
       "      <td>NaN</td>\n",
       "      <td>NaN</td>\n",
       "      <td>NaN</td>\n",
       "      <td>NaN</td>\n",
       "      <td>NaN</td>\n",
       "      <td>NaN</td>\n",
       "      <td>NaN</td>\n",
       "      <td>NaN</td>\n",
       "      <td>NaN</td>\n",
       "      <td>9.330574</td>\n",
       "    </tr>\n",
       "    <tr>\n",
       "      <th>Algeria</th>\n",
       "      <td>NaN</td>\n",
       "      <td>NaN</td>\n",
       "      <td>NaN</td>\n",
       "      <td>NaN</td>\n",
       "      <td>NaN</td>\n",
       "      <td>NaN</td>\n",
       "      <td>NaN</td>\n",
       "      <td>NaN</td>\n",
       "      <td>NaN</td>\n",
       "      <td>NaN</td>\n",
       "      <td>...</td>\n",
       "      <td>NaN</td>\n",
       "      <td>NaN</td>\n",
       "      <td>NaN</td>\n",
       "      <td>NaN</td>\n",
       "      <td>NaN</td>\n",
       "      <td>NaN</td>\n",
       "      <td>NaN</td>\n",
       "      <td>NaN</td>\n",
       "      <td>NaN</td>\n",
       "      <td>5.145025</td>\n",
       "    </tr>\n",
       "    <tr>\n",
       "      <th>Andorra</th>\n",
       "      <td>NaN</td>\n",
       "      <td>NaN</td>\n",
       "      <td>NaN</td>\n",
       "      <td>NaN</td>\n",
       "      <td>NaN</td>\n",
       "      <td>NaN</td>\n",
       "      <td>NaN</td>\n",
       "      <td>NaN</td>\n",
       "      <td>NaN</td>\n",
       "      <td>NaN</td>\n",
       "      <td>...</td>\n",
       "      <td>NaN</td>\n",
       "      <td>NaN</td>\n",
       "      <td>NaN</td>\n",
       "      <td>NaN</td>\n",
       "      <td>NaN</td>\n",
       "      <td>NaN</td>\n",
       "      <td>NaN</td>\n",
       "      <td>NaN</td>\n",
       "      <td>NaN</td>\n",
       "      <td>8.048293</td>\n",
       "    </tr>\n",
       "    <tr>\n",
       "      <th>Angola</th>\n",
       "      <td>NaN</td>\n",
       "      <td>NaN</td>\n",
       "      <td>NaN</td>\n",
       "      <td>NaN</td>\n",
       "      <td>NaN</td>\n",
       "      <td>NaN</td>\n",
       "      <td>NaN</td>\n",
       "      <td>NaN</td>\n",
       "      <td>NaN</td>\n",
       "      <td>NaN</td>\n",
       "      <td>...</td>\n",
       "      <td>NaN</td>\n",
       "      <td>NaN</td>\n",
       "      <td>NaN</td>\n",
       "      <td>NaN</td>\n",
       "      <td>NaN</td>\n",
       "      <td>NaN</td>\n",
       "      <td>NaN</td>\n",
       "      <td>NaN</td>\n",
       "      <td>NaN</td>\n",
       "      <td>21.472977</td>\n",
       "    </tr>\n",
       "  </tbody>\n",
       "</table>\n",
       "<p>5 rows × 55 columns</p>\n",
       "</div>"
      ],
      "text/plain": [
       "                                              1950  1951  1952  1953  1954  \\\n",
       "Suicide among men, per 100 000, age adjusted                                 \n",
       "Afghanistan                                    NaN   NaN   NaN   NaN   NaN   \n",
       "Albania                                        NaN   NaN   NaN   NaN   NaN   \n",
       "Algeria                                        NaN   NaN   NaN   NaN   NaN   \n",
       "Andorra                                        NaN   NaN   NaN   NaN   NaN   \n",
       "Angola                                         NaN   NaN   NaN   NaN   NaN   \n",
       "\n",
       "                                              1955  1956  1957  1958  1959  \\\n",
       "Suicide among men, per 100 000, age adjusted                                 \n",
       "Afghanistan                                    NaN   NaN   NaN   NaN   NaN   \n",
       "Albania                                        NaN   NaN   NaN   NaN   NaN   \n",
       "Algeria                                        NaN   NaN   NaN   NaN   NaN   \n",
       "Andorra                                        NaN   NaN   NaN   NaN   NaN   \n",
       "Angola                                         NaN   NaN   NaN   NaN   NaN   \n",
       "\n",
       "                                                ...      1995  1996  1997  \\\n",
       "Suicide among men, per 100 000, age adjusted    ...                         \n",
       "Afghanistan                                     ...       NaN   NaN   NaN   \n",
       "Albania                                         ...       NaN   NaN   NaN   \n",
       "Algeria                                         ...       NaN   NaN   NaN   \n",
       "Andorra                                         ...       NaN   NaN   NaN   \n",
       "Angola                                          ...       NaN   NaN   NaN   \n",
       "\n",
       "                                              1998  1999  2000  2001  2002  \\\n",
       "Suicide among men, per 100 000, age adjusted                                 \n",
       "Afghanistan                                    NaN   NaN   NaN   NaN   NaN   \n",
       "Albania                                        NaN   NaN   NaN   NaN   NaN   \n",
       "Algeria                                        NaN   NaN   NaN   NaN   NaN   \n",
       "Andorra                                        NaN   NaN   NaN   NaN   NaN   \n",
       "Angola                                         NaN   NaN   NaN   NaN   NaN   \n",
       "\n",
       "                                              2003       2004  \n",
       "Suicide among men, per 100 000, age adjusted                   \n",
       "Afghanistan                                    NaN   4.884804  \n",
       "Albania                                        NaN   9.330574  \n",
       "Algeria                                        NaN   5.145025  \n",
       "Andorra                                        NaN   8.048293  \n",
       "Angola                                         NaN  21.472977  \n",
       "\n",
       "[5 rows x 55 columns]"
      ]
     },
     "execution_count": 5,
     "metadata": {},
     "output_type": "execute_result"
    }
   ],
   "source": [
    "# It seems there are more data for 2004\n",
    "# Let's just focus on 2004 data\n",
    "df_suicide_m.head()"
   ]
  },
  {
   "cell_type": "code",
   "execution_count": 6,
   "metadata": {},
   "outputs": [
    {
     "data": {
      "text/plain": [
       "\n",
       "Afghanistan    13.514959\n",
       "Albania        15.391449\n",
       "Algeria         9.745790\n",
       "Andorra        10.951090\n",
       "Angola         29.616796\n",
       "Name: Suicide per 100,000, age adjusted, dtype: float64"
      ]
     },
     "execution_count": 6,
     "metadata": {},
     "output_type": "execute_result"
    }
   ],
   "source": [
    "# Combine suicide numbers for male and female\n",
    "# Focus on 2004 data\n",
    "df_suicide = df_suicide_f + df_suicide_m\n",
    "df_suicide.index.name = 'Suicide per 100,000, age adjusted'\n",
    "s_suicide_2004 = data_for_certain_year(df_suicide, 2004)\n",
    "\n",
    "# Take a look on the data\n",
    "s_suicide_2004.head()"
   ]
  },
  {
   "cell_type": "code",
   "execution_count": 7,
   "metadata": {},
   "outputs": [
    {
     "data": {
      "text/plain": [
       "\n",
       "Afghanistan     7.429596\n",
       "Albania        13.489231\n",
       "Algeria        19.721519\n",
       "Andorra         1.452563\n",
       "Angola         98.177108\n",
       "Name: Murdered per 100,000, age adjusted, dtype: float64"
      ]
     },
     "execution_count": 7,
     "metadata": {},
     "output_type": "execute_result"
    }
   ],
   "source": [
    "# Combine murder numbers for male and female\n",
    "df_murder = df_murder_f + df_murder_m\n",
    "df_murder.index.name = 'Murdered per 100,000, age adjusted'\n",
    "s_murder_2004 = data_for_certain_year(df_murder, 2004)\n",
    "\n",
    "# Take a look on the data\n",
    "s_murder_2004.head()"
   ]
  },
  {
   "cell_type": "markdown",
   "metadata": {},
   "source": [
    "### 3. Data regarding inequality : Gini coefficient\n",
    "Wealth Inequaliy can modeled by either income distribution or Gini coefficient.  \n",
    "For simpliciy, only Gini coefficient are used in this analysis"
   ]
  },
  {
   "cell_type": "code",
   "execution_count": 8,
   "metadata": {},
   "outputs": [
    {
     "data": {
      "text/plain": [
       "\n",
       "Albania                   31.09\n",
       "Argentina                 50.18\n",
       "Armenia                   37.79\n",
       "Belarus                   26.22\n",
       "Bosnia and Herzegovina    35.78\n",
       "Name: GINI index, dtype: float64"
      ]
     },
     "execution_count": 8,
     "metadata": {},
     "output_type": "execute_result"
    }
   ],
   "source": [
    "# Load and modify data of Gini coefficient, which is used as a gauge of economic inequality\n",
    "df_gini = pd.read_excel('data/indicator SI_POV_GINI.xls.xlsx', sheetname='Data', index_col=0)\n",
    "s_gini_2004 = data_for_certain_year(df_gini, '2004')\n",
    "\n",
    "# Take a look on the data\n",
    "s_gini_2004.head()"
   ]
  },
  {
   "cell_type": "markdown",
   "metadata": {},
   "source": [
    "### 3. General data: GDP, and unemployment rate\n",
    "These data are for used to investigate whether there are any factors that affect public peace other than wealth inequality."
   ]
  },
  {
   "cell_type": "code",
   "execution_count": 9,
   "metadata": {},
   "outputs": [
    {
     "data": {
      "text/plain": [
       "\n",
       "Albania                 1454.022854\n",
       "Algeria                 2043.135713\n",
       "Andorra                20254.346287\n",
       "Angola                   353.231466\n",
       "Antigua and Barbuda    10599.284668\n",
       "Name: Income per person (fixed 2000 US$), dtype: float64"
      ]
     },
     "execution_count": 9,
     "metadata": {},
     "output_type": "execute_result"
    }
   ],
   "source": [
    "# Load and modify GDP per captita data\n",
    "df_GDP_capita = pd.read_excel('data/GDPpercapitaconstant2000US.xlsx', sheetname='Data', index_col=0)\n",
    "s_GDP_capita_2004 = data_for_certain_year(df_GDP_capita, '2004')\n",
    "\n",
    "# Take a look at the data\n",
    "s_GDP_capita_2004.head()"
   ]
  },
  {
   "cell_type": "code",
   "execution_count": 10,
   "metadata": {},
   "outputs": [
    {
     "data": {
      "text/plain": [
       "\n",
       "Australia     5.5\n",
       "Canada        7.2\n",
       "Czech Rep.    8.3\n",
       "Estonia       9.5\n",
       "Finland       8.8\n",
       "Name: Total 15+ unemployment (%), dtype: float64"
      ]
     },
     "execution_count": 10,
     "metadata": {},
     "output_type": "execute_result"
    }
   ],
   "source": [
    "# Load and modify unemployement rate data\n",
    "df_unemployment = pd.read_excel('data/indicator_t above 15 unemploy.xlsx', sheetname='Data', index_col=0)\n",
    "s_unemployment_2004 = data_for_certain_year(df_unemployment, 2004)\n",
    "\n",
    "# Take a look at the data\n",
    "s_unemployment_2004.head()"
   ]
  },
  {
   "cell_type": "markdown",
   "metadata": {},
   "source": [
    "<a id='eda'></a>\n",
    "## Exploratory Data Analysis\n",
    "\n",
    "> Since all the indicators are from different excel files thus imported as separate dataframe/series. It would be easier to examine the relationships of the indicators by combining the data at hands. In the following sections, I will examine the questions posted in the beginning of this notebook, and combine the dataframe only when necessary.\n",
    "\n",
    "\n",
    "### Q1: Is wealth inequality has impact on a country's murder rate?\n",
    "\n",
    "To find out the answers, let's combine the `s_murder_2004` with other indicators such as `s_gini_2004`."
   ]
  },
  {
   "cell_type": "code",
   "execution_count": 11,
   "metadata": {
    "collapsed": true
   },
   "outputs": [],
   "source": [
    "# Combine s_murder_2004 and s_gini_2004 into a single dataframe\n",
    "# Transpose it so that the indicators appears in columns\n",
    "df_q1 = pd.DataFrame([s_murder_2004, s_gini_2004]).T"
   ]
  },
  {
   "cell_type": "code",
   "execution_count": 12,
   "metadata": {
    "collapsed": true
   },
   "outputs": [],
   "source": [
    "# Drop NaN rows\n",
    "df_q1.dropna(inplace=True)"
   ]
  },
  {
   "cell_type": "code",
   "execution_count": 14,
   "metadata": {},
   "outputs": [
    {
     "data": {
      "image/png": "[encoded data removed]",
      "text/plain": [
       "<matplotlib.figure.Figure at 0x1a10df4048>"
      ]
     },
     "metadata": {},
     "output_type": "display_data"
    }
   ],
   "source": [
    "# Inspect the distributions\n",
    "fig, axes = plt.subplots(nrows=1, ncols=2)\n",
    "sns.distplot(df_q1[s_gini_2004.name], kde=False, ax=axes[0], color='orange');axes[0].set_title('Gini Index Dist.');axes[0].set_ylabel('Count');\n",
    "sns.distplot(df_q1[s_murder_2004.name], kde=False, ax=axes[1]); axes[1].set_title('Murder Rate Dist.');\n",
    "plt.tight_layout()"
   ]
  },
  {
   "cell_type": "code",
   "execution_count": 15,
   "metadata": {},
   "outputs": [
    {
     "data": {
      "text/plain": [
       "<matplotlib.axes._subplots.AxesSubplot at 0x1a1921a320>"
      ]
     },
     "execution_count": 15,
     "metadata": {},
     "output_type": "execute_result"
    },
    {
     "data": {
      "image/png": "[encoded data removed]",
      "text/plain": [
       "<matplotlib.figure.Figure at 0x1a10cf1630>"
      ]
     },
     "metadata": {},
     "output_type": "display_data"
    }
   ],
   "source": [
    "# Plot gini index vs murder rate\n",
    "title_q1 = 'Scatter plot: Murder rates vs GINI index'\n",
    "df_q1.plot(kind='scatter', x=s_gini_2004.name, y=s_murder_2004.name, title=title_q1)"
   ]
  },
  {
   "cell_type": "code",
   "execution_count": 16,
   "metadata": {},
   "outputs": [
    {
     "data": {
      "text/plain": [
       "Text(0.5,1,'Scatter plot with regression line: Murder rates vs GINI index')"
      ]
     },
     "execution_count": 16,
     "metadata": {},
     "output_type": "execute_result"
    },
    {
     "data": {
      "image/png": "[encoded data removed]",
      "text/plain": [
       "<matplotlib.figure.Figure at 0x1a192d03c8>"
      ]
     },
     "metadata": {},
     "output_type": "display_data"
    }
   ],
   "source": [
    "# Seaborn plot: scatter plot with regression line\n",
    "sns_title_q1 = 'Scatter plot with regression line: Murder rates vs GINI index'\n",
    "sns.lmplot(x=s_gini_2004.name, y=s_murder_2004.name, data=df_q1, fit_reg=True)\n",
    "ax = plt.gca()\n",
    "ax.set_title(sns_title_q1, fontdict={'fontsize': 10})"
   ]
  },
  {
   "cell_type": "code",
   "execution_count": 17,
   "metadata": {},
   "outputs": [
    {
     "data": {
      "text/html": [
       "<div>\n",
       "<style>\n",
       "    .dataframe thead tr:only-child th {\n",
       "        text-align: right;\n",
       "    }\n",
       "\n",
       "    .dataframe thead th {\n",
       "        text-align: left;\n",
       "    }\n",
       "\n",
       "    .dataframe tbody tr th {\n",
       "        vertical-align: top;\n",
       "    }\n",
       "</style>\n",
       "<table border=\"1\" class=\"dataframe\">\n",
       "  <thead>\n",
       "    <tr style=\"text-align: right;\">\n",
       "      <th></th>\n",
       "      <th>Murdered per 100,000, age adjusted</th>\n",
       "      <th>GINI index</th>\n",
       "    </tr>\n",
       "  </thead>\n",
       "  <tbody>\n",
       "    <tr>\n",
       "      <th>Murdered per 100,000, age adjusted</th>\n",
       "      <td>1.000000</td>\n",
       "      <td>0.537432</td>\n",
       "    </tr>\n",
       "    <tr>\n",
       "      <th>GINI index</th>\n",
       "      <td>0.537432</td>\n",
       "      <td>1.000000</td>\n",
       "    </tr>\n",
       "  </tbody>\n",
       "</table>\n",
       "</div>"
      ],
      "text/plain": [
       "                                    Murdered per 100,000, age adjusted  \\\n",
       "Murdered per 100,000, age adjusted                            1.000000   \n",
       "GINI index                                                    0.537432   \n",
       "\n",
       "                                    GINI index  \n",
       "Murdered per 100,000, age adjusted    0.537432  \n",
       "GINI index                            1.000000  "
      ]
     },
     "execution_count": 17,
     "metadata": {},
     "output_type": "execute_result"
    }
   ],
   "source": [
    "# Calculate Pearson correlation\n",
    "df_q1.corr()"
   ]
  },
  {
   "cell_type": "markdown",
   "metadata": {},
   "source": [
    "#### Observation\n",
    "* Histograms: The murder rate distribution among countries is right-skewed. A low murder rate is more typical in the available data.\n",
    "* Scatter plots : The plots and the regression line show that there is a positive relationship (positive slope) between murder rate and Gini index.\n",
    "* Correlation coefficient: Pandas's corr() function gives us positive Pearson coefficient between these two indicators as well.  \n",
    "\n",
    "\n",
    "Clearly, wealth inequality has positive relationship with the murder rate among the countries in the dataset."
   ]
  },
  {
   "cell_type": "markdown",
   "metadata": {},
   "source": [
    "### Q2: What about suicide rate?\n",
    "\n",
    "Similar to murder rate data, let's combine the `s_suicide_2004` with `s_gini_2004`."
   ]
  },
  {
   "cell_type": "code",
   "execution_count": 18,
   "metadata": {
    "collapsed": true
   },
   "outputs": [],
   "source": [
    "# Combine s_suicide_2004 and s_gini_2004 into a single dataframe\n",
    "# Transpose it so that the indicators appears in columns\n",
    "df_q2 = pd.DataFrame([s_suicide_2004, s_gini_2004]).T"
   ]
  },
  {
   "cell_type": "code",
   "execution_count": 19,
   "metadata": {
    "collapsed": true
   },
   "outputs": [],
   "source": [
    "# Drop NaN rows\n",
    "df_q2.dropna(inplace=True)"
   ]
  },
  {
   "cell_type": "code",
   "execution_count": 34,
   "metadata": {},
   "outputs": [
    {
     "data": {
      "image/png": "[encoded data removed]",
      "text/plain": [
       "<matplotlib.figure.Figure at 0x1a1a0f9668>"
      ]
     },
     "metadata": {},
     "output_type": "display_data"
    }
   ],
   "source": [
    "# Inspect the distributions\n",
    "fig, axes = plt.subplots(nrows=1, ncols=2)\n",
    "sns.distplot(df_q2[s_gini_2004.name], hist=False, kde=False, ax=axes[0], color='orange'); axes[0].set_title('Gini Index Dist.');axes[0].set_ylabel('Count');\n",
    "sns.distplot(df_q2[s_suicide_2004.name], kde=False, ax=axes[1], color='purple'); axes[1].set_title('Suicide Rate Dist.');\n",
    "plt.tight_layout()"
   ]
  },
  {
   "cell_type": "code",
   "execution_count": 21,
   "metadata": {},
   "outputs": [
    {
     "data": {
      "image/png": "[encoded data removed]",
      "text/plain": [
       "<matplotlib.figure.Figure at 0x1a10caaa20>"
      ]
     },
     "metadata": {},
     "output_type": "display_data"
    }
   ],
   "source": [
    "# Plot gini index vs suicide rate\n",
    "title_q2 = 'Scatter plot: Suicide rates vs GINI index'\n",
    "df_q2.plot(kind='scatter', x=s_gini_2004.name, y=s_suicide_2004.name, title=title_q2);"
   ]
  },
  {
   "cell_type": "code",
   "execution_count": 22,
   "metadata": {},
   "outputs": [
    {
     "data": {
      "text/plain": [
       "Text(0.5,1,'Scatter plot with regression line: Suicide rates vs GINI index')"
      ]
     },
     "execution_count": 22,
     "metadata": {},
     "output_type": "execute_result"
    },
    {
     "data": {
      "image/png": "[encoded data removed]",
      "text/plain": [
       "<matplotlib.figure.Figure at 0x1a1966f4a8>"
      ]
     },
     "metadata": {},
     "output_type": "display_data"
    }
   ],
   "source": [
    "# Seaborn plot: scatter plot with regression line\n",
    "sns_title_q2 = 'Scatter plot with regression line: Suicide rates vs GINI index'\n",
    "sns.lmplot(x=s_gini_2004.name, y=s_suicide_2004.name, data=df_q2, fit_reg=True)\n",
    "ax = plt.gca()\n",
    "ax.set_title(sns_title_q2, fontdict={'fontsize': 10})"
   ]
  },
  {
   "cell_type": "code",
   "execution_count": 23,
   "metadata": {},
   "outputs": [
    {
     "data": {
      "text/html": [
       "<div>\n",
       "<style>\n",
       "    .dataframe thead tr:only-child th {\n",
       "        text-align: right;\n",
       "    }\n",
       "\n",
       "    .dataframe thead th {\n",
       "        text-align: left;\n",
       "    }\n",
       "\n",
       "    .dataframe tbody tr th {\n",
       "        vertical-align: top;\n",
       "    }\n",
       "</style>\n",
       "<table border=\"1\" class=\"dataframe\">\n",
       "  <thead>\n",
       "    <tr style=\"text-align: right;\">\n",
       "      <th></th>\n",
       "      <th>Suicide per 100,000, age adjusted</th>\n",
       "      <th>GINI index</th>\n",
       "    </tr>\n",
       "  </thead>\n",
       "  <tbody>\n",
       "    <tr>\n",
       "      <th>Suicide per 100,000, age adjusted</th>\n",
       "      <td>1.000000</td>\n",
       "      <td>-0.536617</td>\n",
       "    </tr>\n",
       "    <tr>\n",
       "      <th>GINI index</th>\n",
       "      <td>-0.536617</td>\n",
       "      <td>1.000000</td>\n",
       "    </tr>\n",
       "  </tbody>\n",
       "</table>\n",
       "</div>"
      ],
      "text/plain": [
       "                                   Suicide per 100,000, age adjusted  \\\n",
       "Suicide per 100,000, age adjusted                           1.000000   \n",
       "GINI index                                                 -0.536617   \n",
       "\n",
       "                                   GINI index  \n",
       "Suicide per 100,000, age adjusted   -0.536617  \n",
       "GINI index                           1.000000  "
      ]
     },
     "execution_count": 23,
     "metadata": {},
     "output_type": "execute_result"
    }
   ],
   "source": [
    "# Calculate Pearson correlation\n",
    "df_q2.corr()"
   ]
  },
  {
   "cell_type": "markdown",
   "metadata": {},
   "source": [
    "#### Observation\n",
    "* Histograms: The suicide rate distribution is also right-skewed. More countries have suicide rates lower than average.\n",
    "* Scatter plots : The plots and the regression line show that there is a negative relationship (negative slope) between suicide rate and Gini index.\n",
    "* Correlation coefficient: Pandas's corr() function gives us negative Pearson coefficient between these two indicators as well.  \n",
    "\n",
    "\n",
    "The analysis shows that countries with lower wealth inequality tend to have higher suicide rates."
   ]
  },
  {
   "cell_type": "markdown",
   "metadata": {},
   "source": [
    "### Q3: Any other parameters linked to murder/suicide rate?\n",
    "\n",
    "This time, let's examine the relationship between unemployment rate and suicide/murder rate.\n",
    "\n",
    "#### Unemployment Rate"
   ]
  },
  {
   "cell_type": "code",
   "execution_count": 24,
   "metadata": {
    "collapsed": true
   },
   "outputs": [],
   "source": [
    "# Combine unemployment data with murder/suicide data\n",
    "df_q3_1 = pd.DataFrame([s_unemployment_2004, s_suicide_2004, s_murder_2004]).T"
   ]
  },
  {
   "cell_type": "code",
   "execution_count": 25,
   "metadata": {
    "collapsed": true
   },
   "outputs": [],
   "source": [
    "# Drop NaN rows\n",
    "df_q3_1.dropna(inplace=True)"
   ]
  },
  {
   "cell_type": "code",
   "execution_count": 26,
   "metadata": {},
   "outputs": [
    {
     "data": {
      "text/plain": [
       "<matplotlib.legend.Legend at 0x1a191f8128>"
      ]
     },
     "execution_count": 26,
     "metadata": {},
     "output_type": "execute_result"
    },
    {
     "data": {
      "image/png": "[encoded data removed]",
      "text/plain": [
       "<matplotlib.figure.Figure at 0x1a193b84e0>"
      ]
     },
     "metadata": {},
     "output_type": "display_data"
    }
   ],
   "source": [
    "# Scatter plots of both suicide/murder rates with unemployment rate\n",
    "plt.scatter(df_q3_1[s_unemployment_2004.name], df_q3_1[s_suicide_2004.name], label='suicide rate')\n",
    "plt.scatter(df_q3_1[s_unemployment_2004.name], df_q3_1[s_murder_2004.name], label='murder rate')\n",
    "plt.xlabel(s_unemployment_2004.name)\n",
    "plt.ylabel('suicide/murder rate(%)')\n",
    "plt.title('Scatter plot: Murder/Suicide rates vs unemployment rate')\n",
    "plt.legend()"
   ]
  },
  {
   "cell_type": "code",
   "execution_count": 27,
   "metadata": {},
   "outputs": [
    {
     "data": {
      "text/plain": [
       "Text(0.5,1,'Scatter plot with regression line: Murder rates vs UNEF. rates')"
      ]
     },
     "execution_count": 27,
     "metadata": {},
     "output_type": "execute_result"
    },
    {
     "data": {
      "image/png": "[encoded data removed]",
      "text/plain": [
       "<matplotlib.figure.Figure at 0x1a19229588>"
      ]
     },
     "metadata": {},
     "output_type": "display_data"
    }
   ],
   "source": [
    "# Seaborn plot: unemployment rate vs suicide rate\n",
    "sns_title_q3 = 'Scatter plot with regression line: Murder rates vs UNEF. rates'\n",
    "sns.lmplot(x=s_unemployment_2004.name, y=s_suicide_2004.name, data=df_q3_1, fit_reg=True)\n",
    "ax = plt.gca()\n",
    "ax.set_title(sns_title_q3, fontdict={'fontsize': 10})"
   ]
  },
  {
   "cell_type": "code",
   "execution_count": 28,
   "metadata": {},
   "outputs": [
    {
     "data": {
      "text/plain": [
       "Text(0.5,1,'Scatter plot with regression line: Suicide rates vs UNEF. rates')"
      ]
     },
     "execution_count": 28,
     "metadata": {},
     "output_type": "execute_result"
    },
    {
     "data": {
      "image/png": "[encoded data removed]",
      "text/plain": [
       "<matplotlib.figure.Figure at 0x1a1963af60>"
      ]
     },
     "metadata": {},
     "output_type": "display_data"
    }
   ],
   "source": [
    "# Seaborn plot: unemployment rate vs murder rate\n",
    "sns_title_q3 = 'Scatter plot with regression line: Suicide rates vs UNEF. rates'\n",
    "sns.lmplot(x=s_unemployment_2004.name, y=s_murder_2004.name, data=df_q3_1, fit_reg=True)\n",
    "ax = plt.gca()\n",
    "ax.set_title(sns_title_q3, fontdict={'fontsize': 10})"
   ]
  },
  {
   "cell_type": "code",
   "execution_count": 29,
   "metadata": {},
   "outputs": [
    {
     "data": {
      "text/html": [
       "<div>\n",
       "<style>\n",
       "    .dataframe thead tr:only-child th {\n",
       "        text-align: right;\n",
       "    }\n",
       "\n",
       "    .dataframe thead th {\n",
       "        text-align: left;\n",
       "    }\n",
       "\n",
       "    .dataframe tbody tr th {\n",
       "        vertical-align: top;\n",
       "    }\n",
       "</style>\n",
       "<table border=\"1\" class=\"dataframe\">\n",
       "  <thead>\n",
       "    <tr style=\"text-align: right;\">\n",
       "      <th></th>\n",
       "      <th>Total 15+ unemployment (%)</th>\n",
       "      <th>Suicide per 100,000, age adjusted</th>\n",
       "      <th>Murdered per 100,000, age adjusted</th>\n",
       "    </tr>\n",
       "  </thead>\n",
       "  <tbody>\n",
       "    <tr>\n",
       "      <th>Total 15+ unemployment (%)</th>\n",
       "      <td>1.000000</td>\n",
       "      <td>0.091997</td>\n",
       "      <td>0.171745</td>\n",
       "    </tr>\n",
       "    <tr>\n",
       "      <th>Suicide per 100,000, age adjusted</th>\n",
       "      <td>0.091997</td>\n",
       "      <td>1.000000</td>\n",
       "      <td>-0.002459</td>\n",
       "    </tr>\n",
       "    <tr>\n",
       "      <th>Murdered per 100,000, age adjusted</th>\n",
       "      <td>0.171745</td>\n",
       "      <td>-0.002459</td>\n",
       "      <td>1.000000</td>\n",
       "    </tr>\n",
       "  </tbody>\n",
       "</table>\n",
       "</div>"
      ],
      "text/plain": [
       "                                    Total 15+ unemployment (%)  \\\n",
       "Total 15+ unemployment (%)                            1.000000   \n",
       "Suicide per 100,000, age adjusted                     0.091997   \n",
       "Murdered per 100,000, age adjusted                    0.171745   \n",
       "\n",
       "                                    Suicide per 100,000, age adjusted  \\\n",
       "Total 15+ unemployment (%)                                   0.091997   \n",
       "Suicide per 100,000, age adjusted                            1.000000   \n",
       "Murdered per 100,000, age adjusted                          -0.002459   \n",
       "\n",
       "                                    Murdered per 100,000, age adjusted  \n",
       "Total 15+ unemployment (%)                                    0.171745  \n",
       "Suicide per 100,000, age adjusted                            -0.002459  \n",
       "Murdered per 100,000, age adjusted                            1.000000  "
      ]
     },
     "execution_count": 29,
     "metadata": {},
     "output_type": "execute_result"
    }
   ],
   "source": [
    "# Calculate Pearson correlation\n",
    "df_q3_1.corr()"
   ]
  },
  {
   "cell_type": "markdown",
   "metadata": {},
   "source": [
    "#### Observation\n",
    "* Scatter plots : There are very small positive relationship between unemployment rate and murder/suicide rate. The slope of the best fitting line are near 0.\n",
    "* Correlation coefficient: Pandas's corr() function gives us very small positive Pearson coefficient between unemployment rate and murder/suicide rate.  \n",
    "\n",
    "\n",
    "There might be a very small correlation between unemployment rate and suicide/murder rate but not apparent."
   ]
  },
  {
   "cell_type": "markdown",
   "metadata": {},
   "source": [
    "#### GDP per capita"
   ]
  },
  {
   "cell_type": "code",
   "execution_count": 30,
   "metadata": {
    "collapsed": true
   },
   "outputs": [],
   "source": [
    "# Combine GDP data with murder/suicide data\n",
    "df_q3_2 = pd.DataFrame([s_GDP_capita_2004, s_suicide_2004, s_murder_2004]).T\n",
    "df_q3_2.dropna(inplace=True)"
   ]
  },
  {
   "cell_type": "code",
   "execution_count": 31,
   "metadata": {},
   "outputs": [
    {
     "data": {
      "text/plain": [
       "<matplotlib.legend.Legend at 0x1a10daf0b8>"
      ]
     },
     "execution_count": 31,
     "metadata": {},
     "output_type": "execute_result"
    },
    {
     "data": {
      "image/png": "[encoded data removed]",
      "text/plain": [
       "<matplotlib.figure.Figure at 0x1a10cf1320>"
      ]
     },
     "metadata": {},
     "output_type": "display_data"
    }
   ],
   "source": [
    "# Scatter plots of both suicide/murder rates with unemployment rate\n",
    "plt.scatter(df_q3_2[s_GDP_capita_2004.name], df_q3_2[s_suicide_2004.name], label='suicide rate')\n",
    "plt.scatter(df_q3_2[s_GDP_capita_2004.name], df_q3_2[s_murder_2004.name], label='murder rate')\n",
    "plt.xlabel(s_GDP_capita_2004.name)\n",
    "plt.ylabel('suicide/murder rate(%)')\n",
    "plt.title('Scatter plot: Murder/Suicide rates vs GDP per capita')\n",
    "plt.legend()"
   ]
  },
  {
   "cell_type": "code",
   "execution_count": 32,
   "metadata": {},
   "outputs": [
    {
     "data": {
      "text/html": [
       "<div>\n",
       "<style>\n",
       "    .dataframe thead tr:only-child th {\n",
       "        text-align: right;\n",
       "    }\n",
       "\n",
       "    .dataframe thead th {\n",
       "        text-align: left;\n",
       "    }\n",
       "\n",
       "    .dataframe tbody tr th {\n",
       "        vertical-align: top;\n",
       "    }\n",
       "</style>\n",
       "<table border=\"1\" class=\"dataframe\">\n",
       "  <thead>\n",
       "    <tr style=\"text-align: right;\">\n",
       "      <th></th>\n",
       "      <th>Income per person (fixed 2000 US$)</th>\n",
       "      <th>Suicide per 100,000, age adjusted</th>\n",
       "      <th>Murdered per 100,000, age adjusted</th>\n",
       "    </tr>\n",
       "  </thead>\n",
       "  <tbody>\n",
       "    <tr>\n",
       "      <th>Income per person (fixed 2000 US$)</th>\n",
       "      <td>1.000000</td>\n",
       "      <td>-0.027270</td>\n",
       "      <td>-0.387617</td>\n",
       "    </tr>\n",
       "    <tr>\n",
       "      <th>Suicide per 100,000, age adjusted</th>\n",
       "      <td>-0.027270</td>\n",
       "      <td>1.000000</td>\n",
       "      <td>0.164673</td>\n",
       "    </tr>\n",
       "    <tr>\n",
       "      <th>Murdered per 100,000, age adjusted</th>\n",
       "      <td>-0.387617</td>\n",
       "      <td>0.164673</td>\n",
       "      <td>1.000000</td>\n",
       "    </tr>\n",
       "  </tbody>\n",
       "</table>\n",
       "</div>"
      ],
      "text/plain": [
       "                                    Income per person (fixed 2000 US$)  \\\n",
       "Income per person (fixed 2000 US$)                            1.000000   \n",
       "Suicide per 100,000, age adjusted                            -0.027270   \n",
       "Murdered per 100,000, age adjusted                           -0.387617   \n",
       "\n",
       "                                    Suicide per 100,000, age adjusted  \\\n",
       "Income per person (fixed 2000 US$)                          -0.027270   \n",
       "Suicide per 100,000, age adjusted                            1.000000   \n",
       "Murdered per 100,000, age adjusted                           0.164673   \n",
       "\n",
       "                                    Murdered per 100,000, age adjusted  \n",
       "Income per person (fixed 2000 US$)                           -0.387617  \n",
       "Suicide per 100,000, age adjusted                             0.164673  \n",
       "Murdered per 100,000, age adjusted                            1.000000  "
      ]
     },
     "execution_count": 32,
     "metadata": {},
     "output_type": "execute_result"
    }
   ],
   "source": [
    "# Calculate Pearson correlation\n",
    "df_q3_2.corr()"
   ]
  },
  {
   "cell_type": "markdown",
   "metadata": {
    "collapsed": true
   },
   "source": [
    "#### Observation\n",
    "* Scatter plots : Both plots show that extreme high suicide/murder rates only exist in low GDP countries. Suicide/murder rates of higher-GDP countries show no apparent trend.\n",
    "* Correlation coefficient: Pandas's corr() function gives us very small negative Pearson coefficient between suicide rate and GDP per capita, and siginificant negative Pearson coefficient between murder rate and GDP per capita.\n",
    "\n",
    "\n",
    "Extreme murder/suicide rates are only found in low GDP countries."
   ]
  },
  {
   "cell_type": "markdown",
   "metadata": {},
   "source": [
    "<a id='conclusions'></a>\n",
    "## Conclusions\n",
    "\n",
    "> Through the explorations of 2004's data, the following relationships are observed. \n",
    "* The Gini coeffificients (a metric for inequality) has a positive relationship with murder rates but a negative relationship with suicide rate.\n",
    "* Extreme high murder/suicide rates occurred only in low GDP countries.\n",
    "\n",
    "> Limitations of this analysis\n",
    "* Only one year's data (2004) are used to perform the analysis. The result might be different based on data of different time.\n",
    "* There might be other factors that affect the murder/suicide rate of a country. (e.g. political factors)"
   ]
  },
  {
   "cell_type": "code",
   "execution_count": null,
   "metadata": {
    "collapsed": true
   },
   "outputs": [],
   "source": []
  }
 ],
 "metadata": {
  "kernelspec": {
   "display_name": "Python 3",
   "language": "python",
   "name": "python3"
  },
  "language_info": {
   "codemirror_mode": {
    "name": "ipython",
    "version": 3
   },
   "file_extension": ".py",
   "mimetype": "text/x-python",
   "name": "python",
   "nbconvert_exporter": "python",
   "pygments_lexer": "ipython3",
   "version": "3.6.4"
  }
 },
 "nbformat": 4,
 "nbformat_minor": 2
}
